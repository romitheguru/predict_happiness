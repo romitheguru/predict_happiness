{
 "cells": [
  {
   "cell_type": "code",
   "execution_count": 1,
   "metadata": {},
   "outputs": [
    {
     "name": "stderr",
     "output_type": "stream",
     "text": [
      "/usr/local/lib/python2.7/dist-packages/sklearn/cross_validation.py:41: DeprecationWarning: This module was deprecated in version 0.18 in favor of the model_selection module into which all the refactored classes and functions are moved. Also note that the interface of the new CV iterators are different from that of this module. This module will be removed in 0.20.\n",
      "  \"This module will be removed in 0.20.\", DeprecationWarning)\n"
     ]
    }
   ],
   "source": [
    "# Load Libraries\n",
    "import re\n",
    "import numpy as np\n",
    "import pandas as pd\n",
    "from collections import defaultdict\n",
    "from nltk.corpus import stopwords\n",
    "from nltk.stem import PorterStemmer\n",
    "from nltk.stem.wordnet import WordNetLemmatizer\n",
    "\n",
    "import gensim\n",
    "from xgboost import XGBClassifier\n",
    "from sklearn.ensemble import GradientBoostingClassifier\n",
    "from sklearn.naive_bayes import GaussianNB\n",
    "from sklearn.preprocessing import LabelEncoder\n",
    "from sklearn.feature_extraction.text import CountVectorizer, TfidfVectorizer\n",
    "from sklearn.model_selection import cross_val_score\n",
    "from sklearn.metrics import accuracy_score, make_scorer"
   ]
  },
  {
   "cell_type": "code",
   "execution_count": 2,
   "metadata": {},
   "outputs": [],
   "source": [
    "# load data\n",
    "train = pd.read_csv(\"train.csv\")\n",
    "test = pd.read_csv(\"test.csv\")"
   ]
  },
  {
   "cell_type": "code",
   "execution_count": 3,
   "metadata": {},
   "outputs": [],
   "source": [
    "## join data\n",
    "test['Is_Response'] = np.nan\n",
    "alldata = pd.concat([train, test]).reset_index(drop=True)"
   ]
  },
  {
   "cell_type": "code",
   "execution_count": 4,
   "metadata": {},
   "outputs": [
    {
     "data": {
      "text/html": [
       "<div>\n",
       "<style>\n",
       "    .dataframe thead tr:only-child th {\n",
       "        text-align: right;\n",
       "    }\n",
       "\n",
       "    .dataframe thead th {\n",
       "        text-align: left;\n",
       "    }\n",
       "\n",
       "    .dataframe tbody tr th {\n",
       "        vertical-align: top;\n",
       "    }\n",
       "</style>\n",
       "<table border=\"1\" class=\"dataframe\">\n",
       "  <thead>\n",
       "    <tr style=\"text-align: right;\">\n",
       "      <th></th>\n",
       "      <th>User_ID</th>\n",
       "      <th>Description</th>\n",
       "      <th>Browser_Used</th>\n",
       "      <th>Device_Used</th>\n",
       "      <th>Is_Response</th>\n",
       "    </tr>\n",
       "  </thead>\n",
       "  <tbody>\n",
       "    <tr>\n",
       "      <th>0</th>\n",
       "      <td>id10326</td>\n",
       "      <td>The room was kind of clean but had a VERY stro...</td>\n",
       "      <td>Edge</td>\n",
       "      <td>Mobile</td>\n",
       "      <td>not happy</td>\n",
       "    </tr>\n",
       "    <tr>\n",
       "      <th>1</th>\n",
       "      <td>id10327</td>\n",
       "      <td>I stayed at the Crown Plaza April -- - April -...</td>\n",
       "      <td>Internet Explorer</td>\n",
       "      <td>Mobile</td>\n",
       "      <td>not happy</td>\n",
       "    </tr>\n",
       "    <tr>\n",
       "      <th>2</th>\n",
       "      <td>id10328</td>\n",
       "      <td>I booked this hotel through Hotwire at the low...</td>\n",
       "      <td>Mozilla</td>\n",
       "      <td>Tablet</td>\n",
       "      <td>not happy</td>\n",
       "    </tr>\n",
       "    <tr>\n",
       "      <th>3</th>\n",
       "      <td>id10329</td>\n",
       "      <td>Stayed here with husband and sons on the way t...</td>\n",
       "      <td>InternetExplorer</td>\n",
       "      <td>Desktop</td>\n",
       "      <td>happy</td>\n",
       "    </tr>\n",
       "    <tr>\n",
       "      <th>4</th>\n",
       "      <td>id10330</td>\n",
       "      <td>My girlfriends and I stayed here to celebrate ...</td>\n",
       "      <td>Edge</td>\n",
       "      <td>Tablet</td>\n",
       "      <td>not happy</td>\n",
       "    </tr>\n",
       "    <tr>\n",
       "      <th>5</th>\n",
       "      <td>id10331</td>\n",
       "      <td>We had - rooms. One was very nice and clearly ...</td>\n",
       "      <td>InternetExplorer</td>\n",
       "      <td>Desktop</td>\n",
       "      <td>happy</td>\n",
       "    </tr>\n",
       "    <tr>\n",
       "      <th>6</th>\n",
       "      <td>id10332</td>\n",
       "      <td>My husband and I have stayed in this hotel a f...</td>\n",
       "      <td>Firefox</td>\n",
       "      <td>Tablet</td>\n",
       "      <td>not happy</td>\n",
       "    </tr>\n",
       "    <tr>\n",
       "      <th>7</th>\n",
       "      <td>id10333</td>\n",
       "      <td>My wife &amp; I stayed in this glorious city a whi...</td>\n",
       "      <td>Google Chrome</td>\n",
       "      <td>Mobile</td>\n",
       "      <td>happy</td>\n",
       "    </tr>\n",
       "    <tr>\n",
       "      <th>8</th>\n",
       "      <td>id10334</td>\n",
       "      <td>My boyfriend and I stayed at the Fairmont on a...</td>\n",
       "      <td>Internet Explorer</td>\n",
       "      <td>Desktop</td>\n",
       "      <td>happy</td>\n",
       "    </tr>\n",
       "    <tr>\n",
       "      <th>9</th>\n",
       "      <td>id10335</td>\n",
       "      <td>Wonderful staff, great location, but it was de...</td>\n",
       "      <td>Chrome</td>\n",
       "      <td>Tablet</td>\n",
       "      <td>not happy</td>\n",
       "    </tr>\n",
       "  </tbody>\n",
       "</table>\n",
       "</div>"
      ],
      "text/plain": [
       "   User_ID                                        Description  \\\n",
       "0  id10326  The room was kind of clean but had a VERY stro...   \n",
       "1  id10327  I stayed at the Crown Plaza April -- - April -...   \n",
       "2  id10328  I booked this hotel through Hotwire at the low...   \n",
       "3  id10329  Stayed here with husband and sons on the way t...   \n",
       "4  id10330  My girlfriends and I stayed here to celebrate ...   \n",
       "5  id10331  We had - rooms. One was very nice and clearly ...   \n",
       "6  id10332  My husband and I have stayed in this hotel a f...   \n",
       "7  id10333  My wife & I stayed in this glorious city a whi...   \n",
       "8  id10334  My boyfriend and I stayed at the Fairmont on a...   \n",
       "9  id10335  Wonderful staff, great location, but it was de...   \n",
       "\n",
       "        Browser_Used Device_Used Is_Response  \n",
       "0               Edge      Mobile   not happy  \n",
       "1  Internet Explorer      Mobile   not happy  \n",
       "2            Mozilla      Tablet   not happy  \n",
       "3   InternetExplorer     Desktop       happy  \n",
       "4               Edge      Tablet   not happy  \n",
       "5   InternetExplorer     Desktop       happy  \n",
       "6            Firefox      Tablet   not happy  \n",
       "7      Google Chrome      Mobile       happy  \n",
       "8  Internet Explorer     Desktop       happy  \n",
       "9             Chrome      Tablet   not happy  "
      ]
     },
     "execution_count": 4,
     "metadata": {},
     "output_type": "execute_result"
    }
   ],
   "source": [
    "alldata.head(10)"
   ]
  },
  {
   "cell_type": "code",
   "execution_count": 5,
   "metadata": {},
   "outputs": [
    {
     "data": {
      "text/html": [
       "<div>\n",
       "<style>\n",
       "    .dataframe thead tr:only-child th {\n",
       "        text-align: right;\n",
       "    }\n",
       "\n",
       "    .dataframe thead th {\n",
       "        text-align: left;\n",
       "    }\n",
       "\n",
       "    .dataframe tbody tr th {\n",
       "        vertical-align: top;\n",
       "    }\n",
       "</style>\n",
       "<table border=\"1\" class=\"dataframe\">\n",
       "  <thead>\n",
       "    <tr style=\"text-align: right;\">\n",
       "      <th></th>\n",
       "      <th>User_ID</th>\n",
       "      <th>Description</th>\n",
       "      <th>Browser_Used</th>\n",
       "      <th>Device_Used</th>\n",
       "      <th>Is_Response</th>\n",
       "    </tr>\n",
       "  </thead>\n",
       "  <tbody>\n",
       "    <tr>\n",
       "      <th>68326</th>\n",
       "      <td>id109526</td>\n",
       "      <td>This hotel may not be the most glamorous in SF...</td>\n",
       "      <td>Firefox</td>\n",
       "      <td>Desktop</td>\n",
       "      <td>NaN</td>\n",
       "    </tr>\n",
       "    <tr>\n",
       "      <th>68327</th>\n",
       "      <td>id109527</td>\n",
       "      <td>Stayed here for - nights &amp; had a room overlook...</td>\n",
       "      <td>Edge</td>\n",
       "      <td>Mobile</td>\n",
       "      <td>NaN</td>\n",
       "    </tr>\n",
       "    <tr>\n",
       "      <th>68328</th>\n",
       "      <td>id109528</td>\n",
       "      <td>We stayed for three nights (June ----). The lo...</td>\n",
       "      <td>Firefox</td>\n",
       "      <td>Desktop</td>\n",
       "      <td>NaN</td>\n",
       "    </tr>\n",
       "    <tr>\n",
       "      <th>68329</th>\n",
       "      <td>id109529</td>\n",
       "      <td>We spent - nights in a king castia. The beds a...</td>\n",
       "      <td>Firefox</td>\n",
       "      <td>Tablet</td>\n",
       "      <td>NaN</td>\n",
       "    </tr>\n",
       "    <tr>\n",
       "      <th>68330</th>\n",
       "      <td>id109530</td>\n",
       "      <td>We booked our flight-hotel package on Expedia ...</td>\n",
       "      <td>Mozilla</td>\n",
       "      <td>Mobile</td>\n",
       "      <td>NaN</td>\n",
       "    </tr>\n",
       "    <tr>\n",
       "      <th>68331</th>\n",
       "      <td>id109531</td>\n",
       "      <td>I stayed at the hotel and towers for a confere...</td>\n",
       "      <td>Chrome</td>\n",
       "      <td>Mobile</td>\n",
       "      <td>NaN</td>\n",
       "    </tr>\n",
       "    <tr>\n",
       "      <th>68332</th>\n",
       "      <td>id109532</td>\n",
       "      <td>Trying to stay within the Marriott family and ...</td>\n",
       "      <td>Internet Explorer</td>\n",
       "      <td>Tablet</td>\n",
       "      <td>NaN</td>\n",
       "    </tr>\n",
       "    <tr>\n",
       "      <th>68333</th>\n",
       "      <td>id109533</td>\n",
       "      <td>We stayed for - nights with our little dog,ver...</td>\n",
       "      <td>Edge</td>\n",
       "      <td>Desktop</td>\n",
       "      <td>NaN</td>\n",
       "    </tr>\n",
       "    <tr>\n",
       "      <th>68334</th>\n",
       "      <td>id109534</td>\n",
       "      <td>Stayed at the Yotel over the weekend and was v...</td>\n",
       "      <td>InternetExplorer</td>\n",
       "      <td>Desktop</td>\n",
       "      <td>NaN</td>\n",
       "    </tr>\n",
       "    <tr>\n",
       "      <th>68335</th>\n",
       "      <td>id109535</td>\n",
       "      <td>The Blakely is is comfortable is every way: th...</td>\n",
       "      <td>Mozilla Firefox</td>\n",
       "      <td>Mobile</td>\n",
       "      <td>NaN</td>\n",
       "    </tr>\n",
       "  </tbody>\n",
       "</table>\n",
       "</div>"
      ],
      "text/plain": [
       "        User_ID                                        Description  \\\n",
       "68326  id109526  This hotel may not be the most glamorous in SF...   \n",
       "68327  id109527  Stayed here for - nights & had a room overlook...   \n",
       "68328  id109528  We stayed for three nights (June ----). The lo...   \n",
       "68329  id109529  We spent - nights in a king castia. The beds a...   \n",
       "68330  id109530  We booked our flight-hotel package on Expedia ...   \n",
       "68331  id109531  I stayed at the hotel and towers for a confere...   \n",
       "68332  id109532  Trying to stay within the Marriott family and ...   \n",
       "68333  id109533  We stayed for - nights with our little dog,ver...   \n",
       "68334  id109534  Stayed at the Yotel over the weekend and was v...   \n",
       "68335  id109535  The Blakely is is comfortable is every way: th...   \n",
       "\n",
       "            Browser_Used Device_Used Is_Response  \n",
       "68326            Firefox     Desktop         NaN  \n",
       "68327               Edge      Mobile         NaN  \n",
       "68328            Firefox     Desktop         NaN  \n",
       "68329            Firefox      Tablet         NaN  \n",
       "68330            Mozilla      Mobile         NaN  \n",
       "68331             Chrome      Mobile         NaN  \n",
       "68332  Internet Explorer      Tablet         NaN  \n",
       "68333               Edge     Desktop         NaN  \n",
       "68334   InternetExplorer     Desktop         NaN  \n",
       "68335    Mozilla Firefox      Mobile         NaN  "
      ]
     },
     "execution_count": 5,
     "metadata": {},
     "output_type": "execute_result"
    }
   ],
   "source": [
    "alldata.tail(10)"
   ]
  },
  {
   "cell_type": "markdown",
   "metadata": {},
   "source": [
    "### New approach for feature engineering\n",
    "Clean data in following way\n",
    "- Tokeninze sentences\n",
    "- no. of questions\n",
    "- no. of exclamation marks\n",
    "- no. of positives words\n",
    "- no. of negative words\n",
    "- no. of uppercase words\n",
    "- no. of negation phrases\n",
    "- Remove non-english tokens\n",
    "- Tag each token using POS tagger\n",
    "- Remove noun or pronoun words\n",
    "\n",
    "### EDA\n",
    "- Happy/Unhappy classes distribution\n",
    "- Based on no. of +ve/-ve words\n",
    "- Based on difference between +ve/-ve words count\n",
    "- Based on no. of uppercases\n",
    "- Based on exclamation\n",
    "- Based on questions\n",
    "\n",
    "### Solution model\n",
    "- Create features using TF-IDF vectorizer\n",
    "- Access the accuracy and threshold using ROC curve\n",
    "- Use rule based prediction along with ML if no. of false positive/negative is high"
   ]
  },
  {
   "cell_type": "code",
   "execution_count": 6,
   "metadata": {},
   "outputs": [],
   "source": [
    "# Read positive words from file\n",
    "with open(r'/home/romee/opinion_words/pos_words.txt', 'r') as f:\n",
    "    pos_words = f.read().splitlines()\n",
    "\n",
    "# Read negative words from file\n",
    "with open(r'/home/romee/opinion_words/neg_words.txt', 'r') as f:\n",
    "    neg_words = f.read().splitlines()"
   ]
  },
  {
   "cell_type": "code",
   "execution_count": 7,
   "metadata": {},
   "outputs": [],
   "source": [
    "# Convert to set for faster search\n",
    "pos_words = set(pos_words)\n",
    "neg_words = set(neg_words)"
   ]
  },
  {
   "cell_type": "code",
   "execution_count": 8,
   "metadata": {},
   "outputs": [],
   "source": [
    "# Function to decode any string type to unicode\n",
    "def to_unicode(obj, encoding='utf-8'):\n",
    "    if isinstance(obj, basestring):\n",
    "        if not isinstance(obj, unicode):\n",
    "            try:\n",
    "                obj = obj.decode(encoding, errors='ignore')\n",
    "            except UnicodeDecodeError:\n",
    "                obj = obj.decode('windows-1252')\n",
    "    return obj"
   ]
  },
  {
   "cell_type": "code",
   "execution_count": 9,
   "metadata": {},
   "outputs": [],
   "source": [
    "# Function to remove special words\n",
    "def remove_special_chars(text):\n",
    "    unwanted = [\",\", \":\", \"\\\"\", \"=\", \"&\", \";\", \"%\", \"$\", \"@\", \"%\", \"^\", \"*\", \"(\", \")\", \"{\", \"}\", \"[\", \"]\", \"|\", \"/\", \"\\\\\", \">\", \"<\", \"-\", \"!\", \"?\", \".\", \"'\", \"--\", \"---\", \"#\", \"''\", '``', '\"']\n",
    "    txt = [w for w in text.split() if w not in unwanted]\n",
    "    return \" \".join(txt)"
   ]
  },
  {
   "cell_type": "code",
   "execution_count": 10,
   "metadata": {},
   "outputs": [],
   "source": [
    "# Function to count questions\n",
    "def count_ques(text):\n",
    "    return text.count('?')"
   ]
  },
  {
   "cell_type": "code",
   "execution_count": 11,
   "metadata": {},
   "outputs": [],
   "source": [
    "# Function to calculate no. of exclamation marks in a text\n",
    "def count_exclamation(text):\n",
    "    return text.count(\"!\")"
   ]
  },
  {
   "cell_type": "code",
   "execution_count": 12,
   "metadata": {},
   "outputs": [],
   "source": [
    "# Function to calculate no. of quotes in a text\n",
    "def count_quotes(text):\n",
    "    return text.count(\"'\") + text.count('\"')"
   ]
  },
  {
   "cell_type": "code",
   "execution_count": 13,
   "metadata": {},
   "outputs": [],
   "source": [
    "# Function to count uppercase words\n",
    "def count_uppercase(text):\n",
    "    return len([w for w in text.split() if w == w.upper()])"
   ]
  },
  {
   "cell_type": "code",
   "execution_count": 14,
   "metadata": {},
   "outputs": [],
   "source": [
    "# Function to remove pronouns from tokens\n",
    "def remove_pron(text):\n",
    "    tok = to_unicode(text)\n",
    "    tok = nlp(tok)\n",
    "    tok = [token for token in tok if token.pos_ != 'PRON']\n",
    "    tok = [token.text for token in tok if token.pos_ != 'NOUN']\n",
    "    return \" \".join(tok)"
   ]
  },
  {
   "cell_type": "code",
   "execution_count": 15,
   "metadata": {},
   "outputs": [],
   "source": [
    "# Function to count negative words\n",
    "def count_nwords(text):\n",
    "    return len([w for w in text.split() if w in neg_words])"
   ]
  },
  {
   "cell_type": "code",
   "execution_count": 16,
   "metadata": {},
   "outputs": [],
   "source": [
    "# Function to count positive words\n",
    "def count_pwords(text):\n",
    "    return len([w for w in text.split() if w in pos_words])"
   ]
  },
  {
   "cell_type": "code",
   "execution_count": 17,
   "metadata": {},
   "outputs": [],
   "source": [
    "# Function to clean text data\n",
    "stops = set(stopwords.words(\"english\"))\n",
    "def clean_text(text, lowercase=False, remove_stops=False, lemmatize=False):\n",
    "    txt = str(text)\n",
    "    txt = re.sub(r'\\n',r' ',txt)\n",
    "    txt = remove_special_chars(txt)\n",
    "    txt = re.sub(r'[^A-Za-z0-9\\s]',r'',txt)\n",
    "    \n",
    "    if lowercase:\n",
    "        txt = \" \".join([w.lower() for w in txt.split()])\n",
    "        \n",
    "    if remove_stops:\n",
    "        txt = \" \".join([w for w in txt.split() if w not in stops])\n",
    "    \n",
    "    if lemmatize:\n",
    "        lemma = WordNetLemmatizer()\n",
    "        txt = \" \".join([lemma.lemmatize(w) for w in txt.split()])\n",
    "\n",
    "    return txt"
   ]
  },
  {
   "cell_type": "code",
   "execution_count": 18,
   "metadata": {},
   "outputs": [],
   "source": [
    "# Create number of questions feature\n",
    "alldata['questions'] = alldata['Description'].map(lambda x: count_ques(x))"
   ]
  },
  {
   "cell_type": "code",
   "execution_count": 19,
   "metadata": {},
   "outputs": [],
   "source": [
    "# Create number of exclamation feature\n",
    "alldata['exclamations'] = alldata['Description'].map(lambda x: count_exclamation(x))"
   ]
  },
  {
   "cell_type": "code",
   "execution_count": 20,
   "metadata": {},
   "outputs": [],
   "source": [
    "# Create number of uppercase words feature\n",
    "alldata['upperwords'] = alldata['Description'].map(lambda x: count_uppercase(x))"
   ]
  },
  {
   "cell_type": "code",
   "execution_count": 21,
   "metadata": {},
   "outputs": [],
   "source": [
    "# Create numbers of quotes feature\n",
    "alldata['quotes'] = alldata['Description'].map(lambda x: count_quotes(x))"
   ]
  },
  {
   "cell_type": "code",
   "execution_count": 22,
   "metadata": {},
   "outputs": [
    {
     "data": {
      "text/plain": [
       "'Wonderful staff, great location, but it was definately the price was high for a standard hotel. The free breakfast was great, actually pretty good quailty for a free buffet. This hotel is in the heart of it all, walking distance to everything. - things, please Hyatt...the coffee was bad and the white ginger line of shampoo-conditioner-soap smells horrible!'"
      ]
     },
     "execution_count": 22,
     "metadata": {},
     "output_type": "execute_result"
    }
   ],
   "source": [
    "alldata['Description'].iloc[9]"
   ]
  },
  {
   "cell_type": "code",
   "execution_count": 23,
   "metadata": {},
   "outputs": [
    {
     "data": {
      "text/plain": [
       "['Wonderful staff, great location, but it was definately the price was high for a standard hotel',\n",
       " ' The free breakfast was great, actually pretty good quailty for a free buffet',\n",
       " ' This hotel is in the heart of it all, walking distance to everything',\n",
       " ' - things, please Hyatt',\n",
       " '',\n",
       " '',\n",
       " 'the coffee was bad and the white ginger line of shampoo-conditioner-soap smells horrible!']"
      ]
     },
     "execution_count": 23,
     "metadata": {},
     "output_type": "execute_result"
    }
   ],
   "source": [
    "s = alldata['Description'].iloc[9]\n",
    "s.split('.')"
   ]
  },
  {
   "cell_type": "code",
   "execution_count": 24,
   "metadata": {},
   "outputs": [
    {
     "name": "stdout",
     "output_type": "stream",
     "text": [
      "Wonderful staff, great location, but it was definately the price was high for a standard hotel {'neg': 0.0, 'neu': 0.726, 'pos': 0.274, 'compound': 0.5994}\n",
      " The free breakfast was great, actually pretty good quailty for a free buffet {'neg': 0.0, 'neu': 0.294, 'pos': 0.706, 'compound': 0.9501}\n",
      " This hotel is in the heart of it all, walking distance to everything {'neg': 0.0, 'neu': 1.0, 'pos': 0.0, 'compound': 0.0}\n",
      " - things, please Hyatt {'neg': 0.0, 'neu': 0.465, 'pos': 0.535, 'compound': 0.3182}\n",
      " {'neg': 0.0, 'neu': 0.0, 'pos': 0.0, 'compound': 0.0}\n",
      " {'neg': 0.0, 'neu': 0.0, 'pos': 0.0, 'compound': 0.0}\n",
      "the coffee was bad and the white ginger line of shampoo-conditioner-soap smells horrible! {'neg': 0.399, 'neu': 0.601, 'pos': 0.0, 'compound': -0.807}\n",
      "Average polarity: 0.265175\n"
     ]
    }
   ],
   "source": [
    "from nltk.sentiment.vader import SentimentIntensityAnalyzer\n",
    "sid = SentimentIntensityAnalyzer()\n",
    "overall = []\n",
    "for sentence in s.split('.'):\n",
    "    pol = sid.polarity_scores(sentence)\n",
    "    if pol['compound'] != 0.0:\n",
    "        overall.append(pol['compound'])\n",
    "    print sentence, pol\n",
    "print 'Average polarity:',sum(overall)/len(overall)"
   ]
  },
  {
   "cell_type": "code",
   "execution_count": 25,
   "metadata": {},
   "outputs": [],
   "source": [
    "# Function to return average polarity\n",
    "def avg_polarity(text):\n",
    "    sid = SentimentIntensityAnalyzer()\n",
    "    overall = []\n",
    "    new_text = []\n",
    "    for sentence in text.split('.'):\n",
    "        pol = sid.polarity_scores(sentence)\n",
    "        if pol['compound'] == 0.0 or len(sentence) < 3:\n",
    "            continue\n",
    "        overall.append(pol['compound'])\n",
    "        new_text.append(text)\n",
    "    try:\n",
    "        avg = sum(overall)/len(overall)\n",
    "    except:\n",
    "        avg = 0.0\n",
    "    new_text = \". \".join(new_text)\n",
    "    return avg, new_text"
   ]
  },
  {
   "cell_type": "code",
   "execution_count": 26,
   "metadata": {},
   "outputs": [],
   "source": [
    "polarity_and_text = alldata['Description'].map(lambda x: avg_polarity(x))"
   ]
  },
  {
   "cell_type": "code",
   "execution_count": 27,
   "metadata": {},
   "outputs": [],
   "source": [
    "alldata['avg_polarity'] = map(lambda x: x[0], polarity_and_text)"
   ]
  },
  {
   "cell_type": "code",
   "execution_count": 28,
   "metadata": {},
   "outputs": [],
   "source": [
    "alldata['new_description'] = map(lambda x: x[1], polarity_and_text)"
   ]
  },
  {
   "cell_type": "code",
   "execution_count": 29,
   "metadata": {},
   "outputs": [],
   "source": [
    "# clean description\n",
    "alldata['new_description'] = alldata['new_description'].map(lambda x: clean_text(x, lowercase=True, remove_stops=True, lemmatize=True))"
   ]
  },
  {
   "cell_type": "code",
   "execution_count": 31,
   "metadata": {},
   "outputs": [],
   "source": [
    "import re\n",
    "import nltk\n",
    "\n",
    "import spacy\n",
    "nlp = spacy.load('en')"
   ]
  },
  {
   "cell_type": "code",
   "execution_count": 32,
   "metadata": {},
   "outputs": [],
   "source": [
    "# Remove noun or pronoun from text\n",
    "alldata['new_description'] = alldata['new_description'].map(lambda x: remove_pron(x))"
   ]
  },
  {
   "cell_type": "code",
   "execution_count": 33,
   "metadata": {},
   "outputs": [
    {
     "data": {
      "text/plain": [
       "u'kind clean strong generally average ok overnight stay re would consider staying right free better kind clean strong generally average ok overnight stay re would consider staying right free better kind clean strong generally average ok overnight stay re would consider staying right free better'"
      ]
     },
     "execution_count": 33,
     "metadata": {},
     "output_type": "execute_result"
    }
   ],
   "source": [
    "alldata['new_description'].iloc[0]"
   ]
  },
  {
   "cell_type": "code",
   "execution_count": 34,
   "metadata": {},
   "outputs": [],
   "source": [
    "# Numbers of positive words column\n",
    "alldata['positives'] = alldata['new_description'].map(lambda x: count_pwords(x))"
   ]
  },
  {
   "cell_type": "code",
   "execution_count": 35,
   "metadata": {},
   "outputs": [],
   "source": [
    "# Numbers of negative words column\n",
    "alldata['negatives'] = alldata['new_description'].map(lambda x: count_nwords(x))"
   ]
  },
  {
   "cell_type": "code",
   "execution_count": 36,
   "metadata": {},
   "outputs": [
    {
     "name": "stdout",
     "output_type": "stream",
     "text": [
      "<class 'pandas.core.frame.DataFrame'>\n",
      "RangeIndex: 68336 entries, 0 to 68335\n",
      "Data columns (total 13 columns):\n",
      "User_ID            68336 non-null object\n",
      "Description        68336 non-null object\n",
      "Browser_Used       68336 non-null object\n",
      "Device_Used        68336 non-null object\n",
      "Is_Response        38932 non-null object\n",
      "questions          68336 non-null int64\n",
      "exclamations       68336 non-null int64\n",
      "upperwords         68336 non-null int64\n",
      "quotes             68336 non-null int64\n",
      "avg_polarity       68336 non-null float64\n",
      "new_description    68336 non-null object\n",
      "positives          68336 non-null int64\n",
      "negatives          68336 non-null int64\n",
      "dtypes: float64(1), int64(6), object(6)\n",
      "memory usage: 6.8+ MB\n"
     ]
    }
   ],
   "source": [
    "alldata.info()"
   ]
  },
  {
   "cell_type": "code",
   "execution_count": 37,
   "metadata": {},
   "outputs": [],
   "source": [
    "# label encode categorical features in data given\n",
    "cols = ['Browser_Used','Device_Used']\n",
    "\n",
    "for x in cols:\n",
    "    lbl = LabelEncoder()\n",
    "    alldata[x] = lbl.fit_transform(alldata[x])"
   ]
  },
  {
   "cell_type": "code",
   "execution_count": 38,
   "metadata": {},
   "outputs": [],
   "source": [
    "# Model will be used to create tf-idf data vectors\n",
    "tfidfvec = TfidfVectorizer(ngram_range = (1,1), max_features=1000)\n",
    "\n",
    "tfidfdata = tfidfvec.fit_transform(alldata['new_description'])\n",
    "\n",
    "# create dataframe for features\n",
    "tfidf_df = pd.DataFrame(tfidfdata.todense())\n",
    "# set column names\n",
    "tfidf_df.columns = ['col_' + str(x) for x in tfidf_df.columns]"
   ]
  },
  {
   "cell_type": "code",
   "execution_count": 116,
   "metadata": {},
   "outputs": [],
   "source": [
    "cols = ['Browser_Used', 'Device_Used', 'questions', 'exclamations', 'upperwords', 'quotes', 'positives', 'negatives', 'avg_polarity']\n",
    "# feats = alldata[cols]"
   ]
  },
  {
   "cell_type": "code",
   "execution_count": 40,
   "metadata": {},
   "outputs": [],
   "source": [
    "# Final features using tf-idf vectors\n",
    "feats = alldata[cols]\n",
    "feats_final = pd.concat([feats, tfidf_df], axis=1)"
   ]
  },
  {
   "cell_type": "code",
   "execution_count": 41,
   "metadata": {},
   "outputs": [],
   "source": [
    "# Split train test features\n",
    "feats_final_train = feats_final[:len(train)]\n",
    "feats_final_test = feats_final[len(train):]"
   ]
  },
  {
   "cell_type": "code",
   "execution_count": 42,
   "metadata": {},
   "outputs": [
    {
     "data": {
      "text/html": [
       "<div>\n",
       "<style>\n",
       "    .dataframe thead tr:only-child th {\n",
       "        text-align: right;\n",
       "    }\n",
       "\n",
       "    .dataframe thead th {\n",
       "        text-align: left;\n",
       "    }\n",
       "\n",
       "    .dataframe tbody tr th {\n",
       "        vertical-align: top;\n",
       "    }\n",
       "</style>\n",
       "<table border=\"1\" class=\"dataframe\">\n",
       "  <thead>\n",
       "    <tr style=\"text-align: right;\">\n",
       "      <th></th>\n",
       "      <th>Browser_Used</th>\n",
       "      <th>Device_Used</th>\n",
       "      <th>questions</th>\n",
       "      <th>exclamations</th>\n",
       "      <th>upperwords</th>\n",
       "      <th>quotes</th>\n",
       "      <th>positives</th>\n",
       "      <th>negatives</th>\n",
       "      <th>avg_polarity</th>\n",
       "      <th>col_0</th>\n",
       "      <th>...</th>\n",
       "      <th>col_90</th>\n",
       "      <th>col_91</th>\n",
       "      <th>col_92</th>\n",
       "      <th>col_93</th>\n",
       "      <th>col_94</th>\n",
       "      <th>col_95</th>\n",
       "      <th>col_96</th>\n",
       "      <th>col_97</th>\n",
       "      <th>col_98</th>\n",
       "      <th>col_99</th>\n",
       "    </tr>\n",
       "  </thead>\n",
       "  <tbody>\n",
       "    <tr>\n",
       "      <th>0</th>\n",
       "      <td>1</td>\n",
       "      <td>1</td>\n",
       "      <td>0</td>\n",
       "      <td>0</td>\n",
       "      <td>1</td>\n",
       "      <td>1</td>\n",
       "      <td>15</td>\n",
       "      <td>0</td>\n",
       "      <td>0.661133</td>\n",
       "      <td>0.0</td>\n",
       "      <td>...</td>\n",
       "      <td>0.000000</td>\n",
       "      <td>0.0</td>\n",
       "      <td>0.0</td>\n",
       "      <td>0.0</td>\n",
       "      <td>0.0</td>\n",
       "      <td>0.000000</td>\n",
       "      <td>0.0</td>\n",
       "      <td>0.0</td>\n",
       "      <td>0.00000</td>\n",
       "      <td>0.271873</td>\n",
       "    </tr>\n",
       "    <tr>\n",
       "      <th>1</th>\n",
       "      <td>5</td>\n",
       "      <td>1</td>\n",
       "      <td>0</td>\n",
       "      <td>1</td>\n",
       "      <td>14</td>\n",
       "      <td>3</td>\n",
       "      <td>28</td>\n",
       "      <td>28</td>\n",
       "      <td>0.068271</td>\n",
       "      <td>0.0</td>\n",
       "      <td>...</td>\n",
       "      <td>0.000000</td>\n",
       "      <td>0.0</td>\n",
       "      <td>0.0</td>\n",
       "      <td>0.0</td>\n",
       "      <td>0.0</td>\n",
       "      <td>0.000000</td>\n",
       "      <td>0.0</td>\n",
       "      <td>0.0</td>\n",
       "      <td>0.00000</td>\n",
       "      <td>0.191375</td>\n",
       "    </tr>\n",
       "    <tr>\n",
       "      <th>2</th>\n",
       "      <td>7</td>\n",
       "      <td>2</td>\n",
       "      <td>0</td>\n",
       "      <td>0</td>\n",
       "      <td>10</td>\n",
       "      <td>64</td>\n",
       "      <td>110</td>\n",
       "      <td>33</td>\n",
       "      <td>0.204455</td>\n",
       "      <td>0.0</td>\n",
       "      <td>...</td>\n",
       "      <td>0.000000</td>\n",
       "      <td>0.0</td>\n",
       "      <td>0.0</td>\n",
       "      <td>0.0</td>\n",
       "      <td>0.0</td>\n",
       "      <td>0.000000</td>\n",
       "      <td>0.0</td>\n",
       "      <td>0.0</td>\n",
       "      <td>0.00000</td>\n",
       "      <td>0.183223</td>\n",
       "    </tr>\n",
       "    <tr>\n",
       "      <th>3</th>\n",
       "      <td>6</td>\n",
       "      <td>0</td>\n",
       "      <td>0</td>\n",
       "      <td>3</td>\n",
       "      <td>0</td>\n",
       "      <td>0</td>\n",
       "      <td>55</td>\n",
       "      <td>0</td>\n",
       "      <td>0.821960</td>\n",
       "      <td>0.0</td>\n",
       "      <td>...</td>\n",
       "      <td>0.516631</td>\n",
       "      <td>0.0</td>\n",
       "      <td>0.0</td>\n",
       "      <td>0.0</td>\n",
       "      <td>0.0</td>\n",
       "      <td>0.000000</td>\n",
       "      <td>0.0</td>\n",
       "      <td>0.0</td>\n",
       "      <td>0.00000</td>\n",
       "      <td>0.000000</td>\n",
       "    </tr>\n",
       "    <tr>\n",
       "      <th>4</th>\n",
       "      <td>1</td>\n",
       "      <td>2</td>\n",
       "      <td>0</td>\n",
       "      <td>1</td>\n",
       "      <td>15</td>\n",
       "      <td>1</td>\n",
       "      <td>99</td>\n",
       "      <td>11</td>\n",
       "      <td>0.175091</td>\n",
       "      <td>0.0</td>\n",
       "      <td>...</td>\n",
       "      <td>0.000000</td>\n",
       "      <td>0.0</td>\n",
       "      <td>0.0</td>\n",
       "      <td>0.0</td>\n",
       "      <td>0.0</td>\n",
       "      <td>0.123322</td>\n",
       "      <td>0.0</td>\n",
       "      <td>0.0</td>\n",
       "      <td>0.16496</td>\n",
       "      <td>0.272778</td>\n",
       "    </tr>\n",
       "  </tbody>\n",
       "</table>\n",
       "<p>5 rows × 109 columns</p>\n",
       "</div>"
      ],
      "text/plain": [
       "   Browser_Used  Device_Used  questions  exclamations  upperwords  quotes  \\\n",
       "0             1            1          0             0           1       1   \n",
       "1             5            1          0             1          14       3   \n",
       "2             7            2          0             0          10      64   \n",
       "3             6            0          0             3           0       0   \n",
       "4             1            2          0             1          15       1   \n",
       "\n",
       "   positives  negatives  avg_polarity  col_0    ...       col_90  col_91  \\\n",
       "0         15          0      0.661133    0.0    ...     0.000000     0.0   \n",
       "1         28         28      0.068271    0.0    ...     0.000000     0.0   \n",
       "2        110         33      0.204455    0.0    ...     0.000000     0.0   \n",
       "3         55          0      0.821960    0.0    ...     0.516631     0.0   \n",
       "4         99         11      0.175091    0.0    ...     0.000000     0.0   \n",
       "\n",
       "   col_92  col_93  col_94    col_95  col_96  col_97   col_98    col_99  \n",
       "0     0.0     0.0     0.0  0.000000     0.0     0.0  0.00000  0.271873  \n",
       "1     0.0     0.0     0.0  0.000000     0.0     0.0  0.00000  0.191375  \n",
       "2     0.0     0.0     0.0  0.000000     0.0     0.0  0.00000  0.183223  \n",
       "3     0.0     0.0     0.0  0.000000     0.0     0.0  0.00000  0.000000  \n",
       "4     0.0     0.0     0.0  0.123322     0.0     0.0  0.16496  0.272778  \n",
       "\n",
       "[5 rows x 109 columns]"
      ]
     },
     "execution_count": 42,
     "metadata": {},
     "output_type": "execute_result"
    }
   ],
   "source": [
    "feats_final_train.head()"
   ]
  },
  {
   "cell_type": "code",
   "execution_count": 43,
   "metadata": {},
   "outputs": [
    {
     "data": {
      "text/plain": [
       "0    0\n",
       "1    0\n",
       "2    0\n",
       "3    1\n",
       "4    0\n",
       "Name: Is_Response, dtype: int64"
      ]
     },
     "execution_count": 43,
     "metadata": {},
     "output_type": "execute_result"
    }
   ],
   "source": [
    "target = alldata['Is_Response'].iloc[:len(train)]\n",
    "target = target.map(lambda x: 1 if x == 'happy' else 0)\n",
    "target.head()"
   ]
  },
  {
   "cell_type": "code",
   "execution_count": 44,
   "metadata": {},
   "outputs": [
    {
     "name": "stdout",
     "output_type": "stream",
     "text": [
      "[ 0.86029789  0.86193167  0.87040843  0.86039044  0.86719753]\n"
     ]
    }
   ],
   "source": [
    "# Run a cross validating using xgboost classifier\n",
    "model = XGBClassifier(max_depth=15, n_estimators=300, learning_rate=0.05)\n",
    "scores = cross_val_score(model, feats_final_train, target, cv=5, scoring=make_scorer(accuracy_score))\n",
    "print scores"
   ]
  },
  {
   "cell_type": "code",
   "execution_count": 45,
   "metadata": {},
   "outputs": [
    {
     "data": {
      "text/plain": [
       "<matplotlib.axes._subplots.AxesSubplot at 0x7f70d62f3850>"
      ]
     },
     "execution_count": 45,
     "metadata": {},
     "output_type": "execute_result"
    },
    {
     "data": {
      "image/png": "[encoded data removed]",
      "text/plain": [
       "<matplotlib.figure.Figure at 0x7f70d62f3110>"
      ]
     },
     "metadata": {},
     "output_type": "display_data"
    }
   ],
   "source": [
    "import matplotlib.pyplot as plt\n",
    "%matplotlib inline\n",
    "# Plot the feature importance\n",
    "model = XGBClassifier(max_depth=5, n_estimators=150, learning_rate=0.05)\n",
    "model.fit(feats_final_train, target)\n",
    "\n",
    "ts = pd.Series(model.booster().get_fscore())\n",
    "ts.sort_values().iloc[-25:].plot(kind=\"barh\", title=(\"features importance\"), figsize=(12,8))"
   ]
  },
  {
   "cell_type": "markdown",
   "metadata": {},
   "source": [
    "### Using word2vec"
   ]
  },
  {
   "cell_type": "code",
   "execution_count": 46,
   "metadata": {},
   "outputs": [],
   "source": [
    "# Define methods to use word2vec\n",
    "class MeanEmbeddingVectorizer(object):\n",
    "    def __init__(self, word2vec):\n",
    "        self.word2vec = word2vec\n",
    "        # if text is empty, return vector of zeros of same dimensions\n",
    "        self.dim = len(word2vec.itervalues().next())\n",
    "        \n",
    "    def fit(self, X):\n",
    "        return self\n",
    "    \n",
    "    def transform(self, X):\n",
    "        return np.array([\n",
    "                np.mean([self.word2vec[w] for w in words if w in self.word2vec] \n",
    "                        or [np.zeros(self.dim)], axis=0) \n",
    "                for words in X])\n",
    "\n",
    "class TfidfEmbeddingVectorizer(object):\n",
    "    def __init__(self, word2vec):\n",
    "        self.word2vec = word2vec\n",
    "        self.word2weight = None\n",
    "        self.dim = len(word2vec.itervalues().next())\n",
    "\n",
    "    def fit(self, X):\n",
    "        tfidf = TfidfVectorizer(analyzer=lambda x: x)\n",
    "        tfidf.fit(X)\n",
    "        # if a word was never seen - it must be at least as infrequent\n",
    "        # as any of the known words - so the default idf is the max of \n",
    "        # known idf's\n",
    "        max_idf = max(tfidf.idf_)\n",
    "        self.word2weight = defaultdict(\n",
    "            lambda: max_idf,\n",
    "            [(w, tfidf.idf_[i]) for w, i in tfidf.vocabulary_.items()])\n",
    "\n",
    "        return self\n",
    "\n",
    "    def transform(self, X):\n",
    "        return np.array([\n",
    "                np.mean([self.word2vec[w] * self.word2weight[w]\n",
    "                         for w in words if w in self.word2vec] or\n",
    "                        [np.zeros(self.dim)], axis=0)\n",
    "                for words in X\n",
    "            ])"
   ]
  },
  {
   "cell_type": "code",
   "execution_count": 47,
   "metadata": {},
   "outputs": [],
   "source": [
    "# Let X be a list of tokenized texts (i.e. list of lists of tokens)\n",
    "X = alldata['new_description'].str.split()\n",
    "X = X.tolist()\n",
    "X = np.array(X)"
   ]
  },
  {
   "cell_type": "code",
   "execution_count": 48,
   "metadata": {},
   "outputs": [],
   "source": [
    "# Create a word2vec model to create features\n",
    "model = gensim.models.Word2Vec(X, size=500)\n",
    "w2v = dict(zip(model.wv.index2word, model.wv.syn0))"
   ]
  },
  {
   "cell_type": "code",
   "execution_count": 49,
   "metadata": {},
   "outputs": [
    {
     "data": {
      "text/plain": [
       "array([[ 1.05999875, -1.75540876,  0.51533693, ..., -1.06183577,\n",
       "        -1.79106271,  0.74505621],\n",
       "       [ 0.15768574, -0.28716439,  1.37845409, ...,  0.50808269,\n",
       "         0.07610255,  0.13628483],\n",
       "       [ 1.40665615, -2.35736871,  0.72671402, ..., -0.45514753,\n",
       "        -1.18877149, -0.11313645],\n",
       "       ..., \n",
       "       [-0.91711086, -1.99125063,  2.19191051, ..., -2.29708862,\n",
       "         1.66557896, -1.15713632],\n",
       "       [ 0.43100527,  1.76007104, -0.56951076, ..., -2.0424521 ,\n",
       "         2.73676801, -2.19515562],\n",
       "       [-2.53979635, -0.4567531 ,  2.17765594, ..., -2.31599808,\n",
       "         1.31725168, -1.68216193]])"
      ]
     },
     "execution_count": 49,
     "metadata": {},
     "output_type": "execute_result"
    }
   ],
   "source": [
    "# Create features using tf-idf emmbedding\n",
    "word2vec_ = TfidfEmbeddingVectorizer(w2v)\n",
    "word2vec_.fit(X)\n",
    "X_mod = word2vec_.transform(X)\n",
    "X_mod"
   ]
  },
  {
   "cell_type": "code",
   "execution_count": 55,
   "metadata": {},
   "outputs": [
    {
     "data": {
      "text/plain": [
       "Index([u'User_ID', u'Description', u'Browser_Used', u'Device_Used',\n",
       "       u'Is_Response', u'questions', u'exclamations', u'upperwords', u'quotes',\n",
       "       u'avg_polarity', u'new_description', u'positives', u'negatives'],\n",
       "      dtype='object')"
      ]
     },
     "execution_count": 55,
     "metadata": {},
     "output_type": "execute_result"
    }
   ],
   "source": [
    "alldata.columns"
   ]
  },
  {
   "cell_type": "code",
   "execution_count": 56,
   "metadata": {},
   "outputs": [],
   "source": [
    "# create dataframe for features\n",
    "X_mod_df = pd.DataFrame(X_mod)\n",
    "# set column names\n",
    "X_mod_df.columns = ['col' + str(x) for x in X_mod_df.columns]\n",
    "# Final features using word2vec\n",
    "alldata_ = pd.concat([alldata, X_mod_df], axis=1)\n",
    "# Split train test features\n",
    "feats_final_train = alldata_[:len(train)]\n",
    "feats_final_test = alldata_[len(train):]"
   ]
  },
  {
   "cell_type": "code",
   "execution_count": 58,
   "metadata": {},
   "outputs": [],
   "source": [
    "feature_cols = cols + X_mod_df.columns.tolist()"
   ]
  },
  {
   "cell_type": "code",
   "execution_count": 59,
   "metadata": {},
   "outputs": [
    {
     "name": "stdout",
     "output_type": "stream",
     "text": [
      "[ 0.82575758  0.8209607   0.81941947  0.82686874  0.82006165]\n"
     ]
    }
   ],
   "source": [
    "## Naive Bayes 1\n",
    "model = GaussianNB()\n",
    "print(cross_val_score(model, feats_final_train[feature_cols], target, cv=5, scoring=make_scorer(accuracy_score)))"
   ]
  },
  {
   "cell_type": "code",
   "execution_count": 68,
   "metadata": {},
   "outputs": [],
   "source": [
    "from sklearn.svm import SVC"
   ]
  },
  {
   "cell_type": "code",
   "execution_count": 69,
   "metadata": {},
   "outputs": [
    {
     "name": "stdout",
     "output_type": "stream",
     "text": [
      "[ 0.85490498  0.85435397  0.85139995  0.85345492  0.84934498]\n"
     ]
    }
   ],
   "source": [
    "# Run cross validation using SVM\n",
    "model = SVC(C=50, kernel='rbf', cache_size=800)\n",
    "scores = cross_val_score(model, feats_final_train[feature_cols], target, cv=5, scoring=make_scorer(accuracy_score))\n",
    "print scores"
   ]
  },
  {
   "cell_type": "code",
   "execution_count": 71,
   "metadata": {},
   "outputs": [
    {
     "name": "stdout",
     "output_type": "stream",
     "text": [
      "[ 0.87930149  0.8764449   0.87631647  0.8764449   0.87683021]\n"
     ]
    }
   ],
   "source": [
    "# Run logistic regression model\n",
    "from sklearn.linear_model import LogisticRegression\n",
    "\n",
    "model = LogisticRegression(tol=0.000001, n_jobs=-1)\n",
    "scores = cross_val_score(model, feats_final_train[feature_cols], target, cv=5, scoring=make_scorer(accuracy_score))\n",
    "print scores"
   ]
  },
  {
   "cell_type": "code",
   "execution_count": 52,
   "metadata": {},
   "outputs": [
    {
     "name": "stdout",
     "output_type": "stream",
     "text": [
      "[ 0.88662044  0.88697662  0.89082969  0.88235294  0.88530696]\n"
     ]
    }
   ],
   "source": [
    "# Run a cross validating using xgboost classifier\n",
    "model = XGBClassifier(max_depth=50, n_estimators=300, learning_rate=0.05)\n",
    "scores = cross_val_score(model, feats_final_train, target, cv=5, scoring=make_scorer(accuracy_score))\n",
    "print scores"
   ]
  },
  {
   "cell_type": "code",
   "execution_count": 53,
   "metadata": {},
   "outputs": [],
   "source": [
    "# Make predictions\n",
    "model = XGBClassifier(max_depth=50, n_estimators=300, learning_rate=0.05)\n",
    "model.fit(feats_final_train, target)\n",
    "predictions = model.predict(feats_final_test)"
   ]
  },
  {
   "cell_type": "code",
   "execution_count": 54,
   "metadata": {},
   "outputs": [],
   "source": [
    "# Make submission\n",
    "submission = pd.DataFrame({'User_ID':test.User_ID, 'Is_Response':predictions})\n",
    "submission['Is_Response'] = ['happy' if x == 1 else 'not_happy' for x in submission['Is_Response']]\n",
    "submission = submission[['User_ID','Is_Response']]\n",
    "submission.to_csv('submission2.csv', index=False)"
   ]
  },
  {
   "cell_type": "code",
   "execution_count": 61,
   "metadata": {},
   "outputs": [
    {
     "data": {
      "text/plain": [
       "<matplotlib.axes._subplots.AxesSubplot at 0x7f700869de10>"
      ]
     },
     "execution_count": 61,
     "metadata": {},
     "output_type": "execute_result"
    },
    {
     "data": {
      "image/png": "[encoded data removed]",
      "text/plain": [
       "<matplotlib.figure.Figure at 0x7f7008699750>"
      ]
     },
     "metadata": {},
     "output_type": "display_data"
    }
   ],
   "source": [
    "import matplotlib.pyplot as plt\n",
    "%matplotlib inline\n",
    "# Plot the feature importance\n",
    "model = XGBClassifier(max_depth=30, n_estimators=300, learning_rate=0.05)\n",
    "model.fit(feats_final_train[feature_cols], target)\n",
    "\n",
    "ts = pd.Series(model.booster().get_fscore())\n",
    "ts.sort_values().iloc[-25:].plot(kind=\"barh\", title=(\"features importance\"), figsize=(12,8))"
   ]
  },
  {
   "cell_type": "code",
   "execution_count": 60,
   "metadata": {},
   "outputs": [],
   "source": [
    "from sklearn.model_selection import train_test_split"
   ]
  },
  {
   "cell_type": "code",
   "execution_count": 62,
   "metadata": {},
   "outputs": [],
   "source": [
    "X_train, X_test, y_train, y_test = train_test_split(feats_final_train, target, test_size=0.30, random_state=42)"
   ]
  },
  {
   "cell_type": "code",
   "execution_count": null,
   "metadata": {},
   "outputs": [],
   "source": [
    "# Prediction using xgboost\n",
    "model = XGBClassifier(max_depth=50, n_estimators=300, learning_rate=0.05)\n",
    "model.fit(X_train[feature_cols], y_train)"
   ]
  },
  {
   "cell_type": "code",
   "execution_count": 64,
   "metadata": {},
   "outputs": [],
   "source": [
    "class_pred_xgb = model.predict(X_test[feature_cols])\n",
    "prob_pred_xgb = model.predict_proba(X_test[feature_cols])"
   ]
  },
  {
   "cell_type": "code",
   "execution_count": 66,
   "metadata": {},
   "outputs": [
    {
     "name": "stdout",
     "output_type": "stream",
     "text": [
      " actual predicted probability_1 avg_polarity\n",
      "1 1 0.998964 0.33845\n",
      "1 1 0.999219 0.353025\n",
      "1 1 0.999642 0.480121428571\n",
      "1 1 0.999683 0.404621428571\n",
      "0 0 0.000406296 -0.1345\n",
      "1 1 0.997047 0.438515789474\n",
      "1 1 0.999729 0.523488888889\n",
      "0 1 0.879978 0.6131\n",
      "1 1 0.96422 0.332333333333\n",
      "1 1 0.992344 0.145342857143\n",
      "1 1 0.993064 0.363883333333\n",
      "0 0 0.169773 0.277144444444\n",
      "0 1 0.861428 0.017675\n",
      "0 0 0.00198355 0.0940142857143\n",
      "1 1 0.689855 0.2928\n",
      "0 0 0.0651211 -0.005\n",
      "1 1 0.722055 0.296225\n",
      "0 0 0.000125655 -0.1190125\n",
      "1 1 0.999756 0.612066666667\n",
      "1 1 0.974119 0.365\n",
      "1 1 0.840738 0.2728625\n",
      "1 1 0.991022 0.61875\n",
      "1 1 0.998541 0.612966666667\n",
      "0 0 0.00137767 0.0981714285714\n",
      "1 1 0.989116 0.452657142857\n",
      "1 1 0.997671 0.457923076923\n",
      "1 1 0.999655 0.707366666667\n",
      "1 1 0.996925 0.4544\n",
      "1 1 0.992755 0.46392\n",
      "1 0 0.0754512 0.0456666666667\n",
      "1 1 0.999356 0.8671\n",
      "1 1 0.995746 0.738533333333\n",
      "0 1 0.787197 0.6413\n",
      "1 1 0.997825 0.401066666667\n",
      "1 0 0.232314 0.241014285714\n",
      "1 1 0.999848 0.389885714286\n",
      "1 1 0.998475 0.475333333333\n",
      "1 1 0.995395 0.3401\n",
      "1 1 0.929186 0.41312\n",
      "1 1 0.997753 0.25495\n",
      "1 1 0.99101 0.7008\n",
      "0 1 0.918419 0.4215\n",
      "1 1 0.701679 0.69756\n",
      "1 1 0.983079 0.65758\n",
      "1 1 0.999443 0.577566666667\n",
      "0 0 0.0056465 0.113\n",
      "1 1 0.996875 0.564845454545\n",
      "1 1 0.999708 0.792333333333\n",
      "1 1 0.99976 0.61395\n",
      "0 0 0.00264179 -0.0545133333333\n"
     ]
    }
   ],
   "source": [
    "y_test = np.array(y_test)\n",
    "print 'actual', 'predicted', 'probability_1', 'avg_polarity'\n",
    "for i in xrange(50):\n",
    "    print y_test[i], class_pred_xgb[i], prob_pred_xgb[i][1], X_test['avg_polarity'].iloc[i]"
   ]
  },
  {
   "cell_type": "code",
   "execution_count": 72,
   "metadata": {},
   "outputs": [
    {
     "name": "stderr",
     "output_type": "stream",
     "text": [
      "/usr/local/lib/python2.7/dist-packages/sklearn/linear_model/logistic.py:1228: UserWarning: 'n_jobs' > 1 does not have any effect when 'solver' is set to 'liblinear'. Got 'n_jobs' = -1.\n",
      "  \" = {}.\".format(self.n_jobs))\n"
     ]
    }
   ],
   "source": [
    "# Prediction using logistic regression\n",
    "model = LogisticRegression(tol=0.000001, n_jobs=-1)\n",
    "model.fit(X_train[feature_cols], y_train)\n",
    "class_pred_lr = model.predict(X_test[feature_cols])\n",
    "prob_pred_lr = model.predict_proba(X_test[feature_cols])"
   ]
  },
  {
   "cell_type": "code",
   "execution_count": 73,
   "metadata": {},
   "outputs": [
    {
     "name": "stdout",
     "output_type": "stream",
     "text": [
      "actual predicted probability_1 avg_polarity\n",
      "1 1 0.954428970112 0.33845\n",
      "1 1 0.963427198757 0.353025\n",
      "1 1 0.988438084373 0.480121428571\n",
      "1 1 0.983653154402 0.404621428571\n",
      "0 0 0.00470644508603 -0.1345\n",
      "1 1 0.715189797244 0.438515789474\n",
      "1 1 0.981140901086 0.523488888889\n",
      "0 0 0.0555921655716 0.6131\n",
      "1 1 0.847376050109 0.332333333333\n",
      "1 1 0.985373030297 0.145342857143\n",
      "1 1 0.679591068535 0.363883333333\n",
      "0 0 0.357874182393 0.277144444444\n",
      "0 0 0.460089677247 0.017675\n",
      "0 0 0.0746333357292 0.0940142857143\n",
      "1 1 0.788610003976 0.2928\n",
      "0 0 0.256114492798 -0.005\n",
      "1 0 0.243553508698 0.296225\n",
      "0 0 0.000535377596822 -0.1190125\n",
      "1 1 0.999202027445 0.612066666667\n",
      "1 1 0.718882871495 0.365\n",
      "1 0 0.245986565269 0.2728625\n",
      "1 1 0.972931941802 0.61875\n",
      "1 1 0.988675734608 0.612966666667\n",
      "0 0 0.15203523774 0.0981714285714\n",
      "1 1 0.976687728821 0.452657142857\n",
      "1 1 0.915131493052 0.457923076923\n",
      "1 1 0.998806451302 0.707366666667\n",
      "1 1 0.980886367599 0.4544\n",
      "1 1 0.840835922315 0.46392\n",
      "1 0 0.328185510165 0.0456666666667\n",
      "1 1 0.999100725334 0.8671\n",
      "1 1 0.990540276929 0.738533333333\n",
      "0 1 0.796707513144 0.6413\n",
      "1 1 0.8952703181 0.401066666667\n",
      "1 0 0.49579481916 0.241014285714\n",
      "1 1 0.964112746318 0.389885714286\n",
      "1 1 0.998151484235 0.475333333333\n",
      "1 1 0.889777511627 0.3401\n",
      "1 1 0.942917881006 0.41312\n",
      "1 1 0.970777721697 0.25495\n",
      "1 1 0.996156420881 0.7008\n",
      "0 1 0.922500620385 0.4215\n",
      "1 1 0.698448429082 0.69756\n",
      "1 1 0.929956968129 0.65758\n",
      "1 1 0.991995273598 0.577566666667\n",
      "0 0 0.0214128262287 0.113\n",
      "1 1 0.791094613569 0.564845454545\n",
      "1 1 0.970252440796 0.792333333333\n",
      "1 1 0.997003236291 0.61395\n",
      "0 0 0.00252731115574 -0.0545133333333\n"
     ]
    }
   ],
   "source": [
    "y_test = np.array(y_test)\n",
    "print 'actual', 'predicted', 'probability_1', 'avg_polarity'\n",
    "for i in xrange(50):\n",
    "    print y_test[i], class_pred_lr[i], prob_pred_lr[i][1], X_test['avg_polarity'].iloc[i]"
   ]
  },
  {
   "cell_type": "code",
   "execution_count": 74,
   "metadata": {},
   "outputs": [],
   "source": [
    "# Make ensemble model using xgboost and logistic regression\n",
    "model_xgb = XGBClassifier(max_depth=50, n_estimators=300, learning_rate=0.05)\n",
    "model_lr = LogisticRegression(tol=0.000001)\n",
    "\n",
    "# Using xgb\n",
    "model_xgb.fit(X_train[feature_cols], y_train)\n",
    "prob_pred_xgb = model.predict_proba(X_test[feature_cols])\n",
    "\n",
    "# Using logistice regression\n",
    "model_lr.fit(X_train[feature_cols], y_train)\n",
    "prob_pred_lr = model.predict_proba(X_test[feature_cols])"
   ]
  },
  {
   "cell_type": "code",
   "execution_count": 81,
   "metadata": {},
   "outputs": [],
   "source": [
    "probs = (prob_pred_xgb[:,1] + prob_pred_lr[:,1]) / 2\n",
    "predictions_en = map(lambda x: 1 if x>=0.5 else 0, probs)"
   ]
  },
  {
   "cell_type": "code",
   "execution_count": 82,
   "metadata": {},
   "outputs": [
    {
     "data": {
      "text/plain": [
       "0.87748287671232872"
      ]
     },
     "execution_count": 82,
     "metadata": {},
     "output_type": "execute_result"
    }
   ],
   "source": [
    "accuracy_score(y_test, predictions_en)"
   ]
  },
  {
   "cell_type": "code",
   "execution_count": 83,
   "metadata": {},
   "outputs": [],
   "source": [
    "# Cross validation using kfold\n",
    "from sklearn.model_selection import KFold\n",
    "kf = KFold(n_splits=3)\n",
    "kf_predictions = []\n",
    "for train_index, test_index in kf.split(feats_final_train[feature_cols]):\n",
    "    train_data = feats_final_train[feature_cols].iloc[train_index]\n",
    "    train_target = target.iloc[train_index]\n",
    "    test_data = feats_final_train[feature_cols].iloc[test_index]\n",
    "    test_target = target.iloc[test_index]\n",
    "    # xgb\n",
    "    model_xgb.fit(train_data, train_target)\n",
    "    prob_pred_xgb = model.predict_proba(test_data)\n",
    "    # lr\n",
    "    model_lr.fit(train_data, train_target)\n",
    "    prob_pred_lr = model.predict_proba(test_data)\n",
    "\n",
    "    probs = (prob_pred_xgb[:,1] + prob_pred_lr[:,1]) / 2\n",
    "    predictions_en = map(lambda x: 1 if x>=0.5 else 0, probs)\n",
    "    \n",
    "    score = accuracy_score(test_target, predictions_en)\n",
    "    kf_predictions.append(score)"
   ]
  },
  {
   "cell_type": "code",
   "execution_count": 84,
   "metadata": {},
   "outputs": [
    {
     "name": "stdout",
     "output_type": "stream",
     "text": [
      "[0.88603791030975498, 0.88109732603837554, 0.88356322724820835]\n"
     ]
    }
   ],
   "source": [
    "print kf_predictions"
   ]
  },
  {
   "cell_type": "code",
   "execution_count": 91,
   "metadata": {},
   "outputs": [],
   "source": [
    "# Model will be used to create bag of words data vectors\n",
    "countvec = CountVectorizer(binary=True, max_features=10000)\n",
    "countvecdata = countvec.fit_transform(alldata['new_description'])"
   ]
  },
  {
   "cell_type": "code",
   "execution_count": 93,
   "metadata": {},
   "outputs": [
    {
     "name": "stdout",
     "output_type": "stream",
     "text": [
      "(68336, 10000)\n"
     ]
    }
   ],
   "source": [
    "print countvecdata.shape"
   ]
  },
  {
   "cell_type": "code",
   "execution_count": 108,
   "metadata": {},
   "outputs": [
    {
     "data": {
      "text/plain": [
       "3804076405645389341"
      ]
     },
     "execution_count": 108,
     "metadata": {},
     "output_type": "execute_result"
    }
   ],
   "source": [
    "hash(''.join(map(str, countvecdata[0].toarray().tolist()[0])))"
   ]
  },
  {
   "cell_type": "code",
   "execution_count": 109,
   "metadata": {},
   "outputs": [],
   "source": [
    "countvecdata = map(lambda x: hash(''.join(map(str, x.toarray().tolist()[0]))), countvecdata)"
   ]
  },
  {
   "cell_type": "code",
   "execution_count": 111,
   "metadata": {},
   "outputs": [
    {
     "data": {
      "text/plain": [
       "Index([u'User_ID', u'Description', u'Browser_Used', u'Device_Used',\n",
       "       u'Is_Response', u'questions', u'exclamations', u'upperwords', u'quotes',\n",
       "       u'avg_polarity', u'new_description', u'positives', u'negatives',\n",
       "       u'count_feats'],\n",
       "      dtype='object')"
      ]
     },
     "execution_count": 111,
     "metadata": {},
     "output_type": "execute_result"
    }
   ],
   "source": [
    "alldata['count_feats'] = countvecdata\n",
    "alldata.columns"
   ]
  },
  {
   "cell_type": "code",
   "execution_count": 113,
   "metadata": {},
   "outputs": [],
   "source": [
    "cols.append('count_feats')"
   ]
  },
  {
   "cell_type": "code",
   "execution_count": 115,
   "metadata": {},
   "outputs": [
    {
     "name": "stdout",
     "output_type": "stream",
     "text": [
      "[ 0.49332306  0.50385307  0.48677113  0.50372463  0.49614693]\n"
     ]
    }
   ],
   "source": [
    "model = LogisticRegression(tol=0.000001)\n",
    "scores = cross_val_score(model, alldata[cols][:len(train)], target, cv=5, scoring=make_scorer(accuracy_score))\n",
    "print scores"
   ]
  },
  {
   "cell_type": "code",
   "execution_count": 117,
   "metadata": {},
   "outputs": [],
   "source": [
    "# Model will be used to create tf-idf data vectors using 3-gram\n",
    "tfidfvec = TfidfVectorizer(ngram_range = (1,3), max_features=1000)\n",
    "\n",
    "tfidfdata = tfidfvec.fit_transform(alldata['new_description'])\n",
    "\n",
    "# create dataframe for features\n",
    "tfidf_df = pd.DataFrame(tfidfdata.todense())\n",
    "# set column names\n",
    "tfidf_df.columns = ['col_' + str(x) for x in tfidf_df.columns]"
   ]
  },
  {
   "cell_type": "code",
   "execution_count": 118,
   "metadata": {},
   "outputs": [],
   "source": [
    "# Final features using tf-idf vectors\n",
    "feats = alldata[cols]\n",
    "feats_final = pd.concat([feats, tfidf_df], axis=1)"
   ]
  },
  {
   "cell_type": "code",
   "execution_count": 119,
   "metadata": {},
   "outputs": [],
   "source": [
    "# Split train test features\n",
    "feats_final_train = feats_final[:len(train)]\n",
    "feats_final_test = feats_final[len(train):]"
   ]
  },
  {
   "cell_type": "code",
   "execution_count": 120,
   "metadata": {},
   "outputs": [
    {
     "name": "stdout",
     "output_type": "stream",
     "text": [
      "[ 0.8796867   0.87811456  0.88145389  0.87554585  0.87798613]\n"
     ]
    }
   ],
   "source": [
    "model = LogisticRegression(tol=0.000001)\n",
    "scores = cross_val_score(model, feats_final_train, target, cv=5, scoring=make_scorer(accuracy_score))\n",
    "print scores"
   ]
  },
  {
   "cell_type": "code",
   "execution_count": 121,
   "metadata": {},
   "outputs": [
    {
     "name": "stdout",
     "output_type": "stream",
     "text": [
      "[ 0.87494221  0.88387146  0.87593435]\n"
     ]
    }
   ],
   "source": [
    "# Run a cross validating using xgboost classifier\n",
    "model = XGBClassifier(max_depth=100, n_estimators=300, learning_rate=0.05)\n",
    "scores = cross_val_score(model, feats_final_train, target, cv=3, scoring=make_scorer(accuracy_score))\n",
    "print scores"
   ]
  },
  {
   "cell_type": "code",
   "execution_count": null,
   "metadata": {},
   "outputs": [],
   "source": []
  }
 ],
 "metadata": {
  "kernelspec": {
   "display_name": "Python 2",
   "language": "python",
   "name": "python2"
  },
  "language_info": {
   "codemirror_mode": {
    "name": "ipython",
    "version": 2
   },
   "file_extension": ".py",
   "mimetype": "text/x-python",
   "name": "python",
   "nbconvert_exporter": "python",
   "pygments_lexer": "ipython2",
   "version": "2.7.12"
  }
 },
 "nbformat": 4,
 "nbformat_minor": 2
}
